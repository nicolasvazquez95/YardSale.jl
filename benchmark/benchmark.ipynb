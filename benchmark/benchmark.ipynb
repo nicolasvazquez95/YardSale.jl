{
 "cells": [
  {
   "cell_type": "code",
   "execution_count": 1,
   "metadata": {},
   "outputs": [
    {
     "name": "stderr",
     "output_type": "stream",
     "text": [
      "\u001b[32m\u001b[1m  Activating\u001b[22m\u001b[39m project at `d:\\Gits\\YardSale.jl\\benchmark`\n"
     ]
    }
   ],
   "source": [
    "using Pkg\n",
    "Pkg.activate(\".\")"
   ]
  },
  {
   "cell_type": "code",
   "execution_count": 2,
   "metadata": {},
   "outputs": [],
   "source": [
    "using YardSale\n",
    "using BenchmarkTools\n",
    "using Graphs"
   ]
  },
  {
   "cell_type": "markdown",
   "metadata": {},
   "source": [
    "# First benchmark: ODEs"
   ]
  },
  {
   "cell_type": "code",
   "execution_count": 3,
   "metadata": {},
   "outputs": [],
   "source": [
    "# TODO"
   ]
  },
  {
   "cell_type": "markdown",
   "metadata": {},
   "source": [
    "# Second benchmark : EYSM base"
   ]
  },
  {
   "cell_type": "code",
   "execution_count": 4,
   "metadata": {},
   "outputs": [],
   "source": [
    "# TODO"
   ]
  },
  {
   "cell_type": "markdown",
   "metadata": {},
   "source": [
    "# Third benchmark: every interaction and taxation mode over a single network"
   ]
  },
  {
   "cell_type": "code",
   "execution_count": 5,
   "metadata": {},
   "outputs": [
    {
     "data": {
      "text/plain": [
       "1-element BenchmarkTools.BenchmarkGroup:\n",
       "  tags: []\n",
       "  \"IM_TM\" => 4-element BenchmarkTools.BenchmarkGroup:\n",
       "\t  tags: []\n",
       "\t  \"B,A\" => Benchmark(evals=1, seconds=5.0, samples=10000)\n",
       "\t  \"B,B\" => Benchmark(evals=1, seconds=5.0, samples=10000)\n",
       "\t  \"A,B\" => Benchmark(evals=1, seconds=5.0, samples=10000)\n",
       "\t  \"A,A\" => Benchmark(evals=1, seconds=5.0, samples=10000)"
      ]
     },
     "metadata": {},
     "output_type": "display_data"
    }
   ],
   "source": [
    "# Instantiate a benchmark group\n",
    "suite = BenchmarkGroup()\n",
    "\n",
    "# Graph parameters\n",
    "N = 128\n",
    "k = 8\n",
    "p = k/(N-1)\n",
    "g = erdos_renyi(N, p, seed=42)\n",
    "# Simulation parameters\n",
    "W_N = 1.0f0\n",
    "chi = 1.0f0\n",
    "zeta = 1.0f0\n",
    "f = 0.01\n",
    "steps = 10000 * N\n",
    "seed = 42\n",
    "\n",
    "\n",
    "interaction_modes = [\"A\", \"B\"]\n",
    "taxation_modes = [\"A\", \"B\"]\n",
    "\n",
    "# Add benchmarks\n",
    "suite[\"IM_TM\"] = BenchmarkGroup()\n",
    "\n",
    "# Add some benchmarks to the \"IM_TM\" group\n",
    "suite[\"IM_TM\"][\"A,A\"] = @benchmarkable EYSM_net_full($g, $W_N, \"A\", \"A\", $chi, $zeta, $f, $steps, $seed)\n",
    "suite[\"IM_TM\"][\"A,B\"] = @benchmarkable EYSM_net_full($g, $W_N, \"A\", \"B\", $chi, $zeta, $f, $steps, $seed)\n",
    "suite[\"IM_TM\"][\"B,A\"] = @benchmarkable EYSM_net_full($g, $W_N, \"B\", \"A\", $chi, $zeta, $f, $steps, $seed)\n",
    "suite[\"IM_TM\"][\"B,B\"] = @benchmarkable EYSM_net_full($g, $W_N, \"B\", \"B\", $chi, $zeta, $f, $steps, $seed)\n",
    "# Execute `tune!` to find the optimal sample configuration for each benchmark\n",
    "tune!(suite)"
   ]
  },
  {
   "cell_type": "code",
   "execution_count": 11,
   "metadata": {},
   "outputs": [
    {
     "name": "stdout",
     "output_type": "stream",
     "text": [
      "(1/1) benchmarking \"IM_TM\"...\n",
      "  (1/4) benchmarking \"B,A\"...\n",
      "  done (took 18.5413815 seconds)\n",
      "  (2/4) benchmarking \"B,B\"...\n",
      "  done (took 36.9523583 seconds)\n",
      "  (3/4) benchmarking \"A,B\"...\n",
      "  done (took 52.8755378 seconds)\n",
      "  (4/4) benchmarking \"A,A\"...\n",
      "  done (took 20.2119828 seconds)\n",
      "done (took 130.4102364 seconds)\n"
     ]
    },
    {
     "data": {
      "text/plain": [
       "1-element BenchmarkTools.BenchmarkGroup:\n",
       "  tags: []\n",
       "  \"IM_TM\" => 4-element BenchmarkTools.BenchmarkGroup:\n",
       "\t  tags: []\n",
       "\t  \"B,A\" => Trial(8.576 s)\n",
       "\t  \"B,B\" => Trial(17.723 s)\n",
       "\t  \"A,B\" => Trial(26.083 s)\n",
       "\t  \"A,A\" => Trial(9.179 s)"
      ]
     },
     "metadata": {},
     "output_type": "display_data"
    }
   ],
   "source": [
    "t = run(suite, verbose=true)"
   ]
  },
  {
   "cell_type": "code",
   "execution_count": 24,
   "metadata": {},
   "outputs": [
    {
     "data": {
      "text/plain": [
       "BenchmarkTools.Trial: 1 sample with 1 evaluation.\n",
       " Single result which took \u001b[34m9.179 s\u001b[39m (0.00% GC) to evaluate,\n",
       " with a memory estimate of \u001b[33m5.97 MiB\u001b[39m, over \u001b[33m30025\u001b[39m allocations."
      ]
     },
     "metadata": {},
     "output_type": "display_data"
    }
   ],
   "source": [
    "t[\"IM_TM\"][\"A,A\"]"
   ]
  },
  {
   "cell_type": "code",
   "execution_count": 49,
   "metadata": {},
   "outputs": [
    {
     "data": {
      "text/plain": [
       "\"d:\\\\Gits\\\\YardSale.jl\\\\benchmark\\\\benchmark_IM_TM_firstversion.png\""
      ]
     },
     "metadata": {},
     "output_type": "display_data"
    }
   ],
   "source": [
    "# Plot the results\n",
    "im_tm = [\"A,A\", \"A,B\", \"B,A\", \"B,B\"]\n",
    "using Plots\n",
    "p = plot(palette=:julia, yminorticks=true,tickfontsize=14,labelfontsize=15,framestyle=:box,\n",
    "legendfontsize=14,size=(640,480))\n",
    "for (i,imtm) in enumerate(im_tm)\n",
    "    p = scatter!(p,[i],[t[\"IM_TM\"][imtm].times[1]/1e9], label=imtm, ms=6)\n",
    "end\n",
    "\n",
    "xticks!(1:4, im_tm)\n",
    "ylabel!(\"Time (s)\")\n",
    "xlabel!(\"Interaction mode, Taxation mode\")\n",
    "\n",
    "savefig(p, \"benchmark_IM_TM_firstversion.png\")"
   ]
  }
 ],
 "metadata": {
  "kernelspec": {
   "display_name": "Julia 1.11.2",
   "language": "julia",
   "name": "julia-1.11"
  },
  "language_info": {
   "file_extension": ".jl",
   "mimetype": "application/julia",
   "name": "julia",
   "version": "1.11.2"
  }
 },
 "nbformat": 4,
 "nbformat_minor": 2
}
