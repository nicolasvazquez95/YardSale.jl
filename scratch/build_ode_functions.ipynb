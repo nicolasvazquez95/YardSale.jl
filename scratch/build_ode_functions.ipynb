{
 "cells": [
  {
   "cell_type": "code",
   "execution_count": 1,
   "metadata": {},
   "outputs": [
    {
     "name": "stderr",
     "output_type": "stream",
     "text": [
      "\u001b[32m\u001b[1m  Activating\u001b[22m\u001b[39m project at `d:\\Gits\\YardSale.jl`\n"
     ]
    }
   ],
   "source": [
    "using Pkg\n",
    "Pkg.activate(\"../\")"
   ]
  },
  {
   "cell_type": "code",
   "execution_count": 2,
   "metadata": {},
   "outputs": [],
   "source": [
    "using DifferentialEquations, Graphs\n",
    "using YardSale"
   ]
  },
  {
   "cell_type": "code",
   "execution_count": 3,
   "metadata": {},
   "outputs": [
    {
     "data": {
      "text/latex": [
       "\\begin{verbatim}\n",
       "solve_ode_net(g, tspan, integrator, IM, TM, T, seed; kwargs...)\n",
       "\\end{verbatim}\n",
       "Solve the ODE for the network model.\n",
       "\n",
       "\\section{Arguments}\n",
       "\\begin{verbatim}\n",
       "g::SimpleGraph{<:Integer}: Graph.\n",
       "tspan::Tuple{Float64, Float64}: Tuple with initial and final time.\n",
       "integrator::\n",
       "IM::String: Interaction matrix.\n",
       "TM::String: Topology matrix.\n",
       "T::Real: Temperature.\n",
       "seed::Integer: Random seed.\n",
       "\\end{verbatim}\n",
       "\\section{Details}\n",
       "This function solves the ODE for the network model. It calculates the kappa and beta parameters, sets the initial conditions, and solves the ODE. It returns the solution. For the initial conditions, the wealth of each node is set to a random value around 1/N.\n",
       "\n",
       "\\section{Optional arguments}\n",
       "\\begin{verbatim}\n",
       "- `integrator::SciMLAlgorithm`: Integrator to use. Default is Tsit5().\n",
       "- `kwargs...`: Additional arguments for the solver.\n",
       "\\end{verbatim}\n",
       "\\section{Returns}\n",
       "\\begin{verbatim}\n",
       "sol::ODESolution: Solution of the ODE.\n",
       "\\end{verbatim}\n",
       "\\section{Example}\n",
       "\\begin{verbatim}\n",
       "using DifferentialEquations, Graphs, YardSale\n",
       "# Create a graph\n",
       "g = erdos_renyi(100, 0.1, seed=42)\n",
       "IM, TM = \"A\",\"A\"\n",
       "T = 1.0\n",
       "seed = 42\n",
       "tspan = (0.0, 10.0)\n",
       "sol1 = solve_ode_net(g, tspan, IM, TM, T, seed)\n",
       "sol2 = solve_ode_net(g, tspan, IM, TM, T, seed, reltol=1e-6, abstol=1e-6)\n",
       "\\end{verbatim}\n"
      ],
      "text/markdown": [
       "```\n",
       "solve_ode_net(g, tspan, integrator, IM, TM, T, seed; kwargs...)\n",
       "```\n",
       "\n",
       "Solve the ODE for the network model.\n",
       "\n",
       "# Arguments\n",
       "\n",
       "```\n",
       "g::SimpleGraph{<:Integer}: Graph.\n",
       "tspan::Tuple{Float64, Float64}: Tuple with initial and final time.\n",
       "integrator::\n",
       "IM::String: Interaction matrix.\n",
       "TM::String: Topology matrix.\n",
       "T::Real: Temperature.\n",
       "seed::Integer: Random seed.\n",
       "```\n",
       "\n",
       "# Details\n",
       "\n",
       "This function solves the ODE for the network model. It calculates the kappa and beta parameters, sets the initial conditions, and solves the ODE. It returns the solution. For the initial conditions, the wealth of each node is set to a random value around 1/N.\n",
       "\n",
       "# Optional arguments\n",
       "\n",
       "```\n",
       "- `integrator::SciMLAlgorithm`: Integrator to use. Default is Tsit5().\n",
       "- `kwargs...`: Additional arguments for the solver.\n",
       "```\n",
       "\n",
       "# Returns\n",
       "\n",
       "```\n",
       "sol::ODESolution: Solution of the ODE.\n",
       "```\n",
       "\n",
       "# Example\n",
       "\n",
       "```julia\n",
       "using DifferentialEquations, Graphs, YardSale\n",
       "# Create a graph\n",
       "g = erdos_renyi(100, 0.1, seed=42)\n",
       "IM, TM = \"A\",\"A\"\n",
       "T = 1.0\n",
       "seed = 42\n",
       "tspan = (0.0, 10.0)\n",
       "sol1 = solve_ode_net(g, tspan, IM, TM, T, seed)\n",
       "sol2 = solve_ode_net(g, tspan, IM, TM, T, seed, reltol=1e-6, abstol=1e-6)\n",
       "```\n"
      ],
      "text/plain": [
       "\u001b[36m  solve_ode_net(g, tspan, integrator, IM, TM, T, seed; kwargs...)\u001b[39m\n",
       "\n",
       "  Solve the ODE for the network model.\n",
       "\n",
       "\u001b[1m  Arguments\u001b[22m\n",
       "\u001b[1m  ≡≡≡≡≡≡≡≡≡\u001b[22m\n",
       "\n",
       "\u001b[36m  g::SimpleGraph{<:Integer}: Graph.\u001b[39m\n",
       "\u001b[36m  tspan::Tuple{Float64, Float64}: Tuple with initial and final time.\u001b[39m\n",
       "\u001b[36m  integrator::\u001b[39m\n",
       "\u001b[36m  IM::String: Interaction matrix.\u001b[39m\n",
       "\u001b[36m  TM::String: Topology matrix.\u001b[39m\n",
       "\u001b[36m  T::Real: Temperature.\u001b[39m\n",
       "\u001b[36m  seed::Integer: Random seed.\u001b[39m\n",
       "\n",
       "\u001b[1m  Details\u001b[22m\n",
       "\u001b[1m  ≡≡≡≡≡≡≡\u001b[22m\n",
       "\n",
       "  This function solves the ODE for the network model. It calculates the kappa\n",
       "  and beta parameters, sets the initial conditions, and solves the ODE. It\n",
       "  returns the solution. For the initial conditions, the wealth of each node is\n",
       "  set to a random value around 1/N.\n",
       "\n",
       "\u001b[1m  Optional arguments\u001b[22m\n",
       "\u001b[1m  ≡≡≡≡≡≡≡≡≡≡≡≡≡≡≡≡≡≡\u001b[22m\n",
       "\n",
       "\u001b[36m  - `integrator::SciMLAlgorithm`: Integrator to use. Default is Tsit5().\u001b[39m\n",
       "\u001b[36m  - `kwargs...`: Additional arguments for the solver.\u001b[39m\n",
       "\n",
       "\u001b[1m  Returns\u001b[22m\n",
       "\u001b[1m  ≡≡≡≡≡≡≡\u001b[22m\n",
       "\n",
       "\u001b[36m  sol::ODESolution: Solution of the ODE.\u001b[39m\n",
       "\n",
       "\u001b[1m  Example\u001b[22m\n",
       "\u001b[1m  ≡≡≡≡≡≡≡\u001b[22m\n",
       "\n",
       "\u001b[36m  using DifferentialEquations, Graphs, YardSale\u001b[39m\n",
       "\u001b[36m  # Create a graph\u001b[39m\n",
       "\u001b[36m  g = erdos_renyi(100, 0.1, seed=42)\u001b[39m\n",
       "\u001b[36m  IM, TM = \"A\",\"A\"\u001b[39m\n",
       "\u001b[36m  T = 1.0\u001b[39m\n",
       "\u001b[36m  seed = 42\u001b[39m\n",
       "\u001b[36m  tspan = (0.0, 10.0)\u001b[39m\n",
       "\u001b[36m  sol1 = solve_ode_net(g, tspan, IM, TM, T, seed)\u001b[39m\n",
       "\u001b[36m  sol2 = solve_ode_net(g, tspan, IM, TM, T, seed, reltol=1e-6, abstol=1e-6)\u001b[39m"
      ]
     },
     "metadata": {},
     "output_type": "display_data"
    }
   ],
   "source": [
    "@doc solve_ode_net"
   ]
  },
  {
   "cell_type": "code",
   "execution_count": null,
   "metadata": {},
   "outputs": [],
   "source": [
    "g = erdos_renyi(100, 0.1, seed=42)\n",
    "IM, TM = \"A\",\"A\"\n",
    "T = 1.0\n",
    "seed = 42\n",
    "tspan = (0.0, 10.0)\n",
    "integrator = RK4()\n",
    "sol1 = solve_ode_net(g, tspan, IM, TM, T, seed)"
   ]
  }
 ],
 "metadata": {
  "kernelspec": {
   "display_name": "Julia 1.11.2",
   "language": "julia",
   "name": "julia-1.11"
  },
  "language_info": {
   "file_extension": ".jl",
   "mimetype": "application/julia",
   "name": "julia",
   "version": "1.11.2"
  }
 },
 "nbformat": 4,
 "nbformat_minor": 2
}
