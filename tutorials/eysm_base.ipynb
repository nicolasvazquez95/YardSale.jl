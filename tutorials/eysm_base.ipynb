{
 "cells": [
  {
   "cell_type": "markdown",
   "metadata": {},
   "source": [
    "# Import necessary packages"
   ]
  },
  {
   "cell_type": "code",
   "execution_count": 2,
   "metadata": {},
   "outputs": [],
   "source": [
    "using YardSale\n",
    "using Plots, LaTeXStrings, ColorSchemes"
   ]
  },
  {
   "cell_type": "markdown",
   "metadata": {},
   "source": [
    "# Description of the notebook\n",
    "In this notebook we'll explore the behavior of the Extended Yard-Sale Model (EYSM), simulating the (stochastic) evolution of an economical systems of $N$ agents. These agents are characterized by their wealth $w_i, \\;i=1,...,N$. The rules of the model have been described in the `ode_systems.ipynb` notebook. \n",
    "Here, we add the stochasticity to the model, in the framework of Monte Carlo simulations. With this addition, we expect to see not only the phase transition of the model, but also the fluctuations around the critical point. \n",
    "\n",
    "Remember that the exchange rule of the EYSM is given by:\n",
    "$$\n",
    "\\Delta w_{ij} = \\chi \\Delta t \\bigg(\\frac{W}{N} - w_i\\bigg) + \\eta_{ij} \\sqrt{\\gamma \\Delta t} \\min(w_i,w_j),\n",
    "$$\n",
    "where $\\chi$ is the redistribution rate, $\\sqrt{\\gamma \\Delta t}$ represents the fraction $f$ of the wealth that is exchanged between agents $i$ and $j$ at each time step, and $\\eta_{ij}$ is a random number that can be $\\pm 1$. This stochastic variable has the properties\n",
    "$$\n",
    "\\langle \\eta_{ij} \\rangle = \\zeta N \\sqrt{\\frac{\\Delta t}{\\gamma}} \\frac{(w_i - w_j)}{W}, \\qquad \\langle \\eta_{ij}^2 \\rangle = 1.\n",
    "$$\n",
    "The parameter $\\zeta$ represents the Wealth-Attained Advantage (WAA) parameter, which is a bias that favors the richer agent in the exchange.\n",
    "Finally, the wealth of the agents is updated as\n",
    "$$\n",
    "w_i \\to w_i + \\Delta w_{ij}, \\qquad w_j \\to w_j - \\Delta w_{ij}.\n",
    "$$\n",
    "\n",
    "In this notebook, we''ll explore the behavior of the EYSM model using Monte Carlo simulations. We''ll study the dynamics and the phase transition of the model measuring the order parameter and its fluctuations at the steady state."
   ]
  },
  {
   "cell_type": "code",
   "execution_count": 3,
   "metadata": {},
   "outputs": [],
   "source": [
    "# TODO"
   ]
  }
 ],
 "metadata": {
  "kernelspec": {
   "display_name": "Julia 1.11.2",
   "language": "julia",
   "name": "julia-1.11"
  },
  "language_info": {
   "file_extension": ".jl",
   "mimetype": "application/julia",
   "name": "julia",
   "version": "1.11.2"
  }
 },
 "nbformat": 4,
 "nbformat_minor": 2
}
