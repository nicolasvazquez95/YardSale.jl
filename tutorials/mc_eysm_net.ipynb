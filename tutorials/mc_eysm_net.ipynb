{
 "cells": [
  {
   "cell_type": "markdown",
   "metadata": {
    "vscode": {
     "languageId": "plaintext"
    }
   },
   "source": [
    "# Import necessary packages"
   ]
  },
  {
   "cell_type": "code",
   "execution_count": 1,
   "metadata": {},
   "outputs": [
    {
     "name": "stderr",
     "output_type": "stream",
     "text": [
      "\u001b[32m\u001b[1m  Activating\u001b[22m\u001b[39m project at `c:\\Users\\nicol\\GitHub\\YardSale\\tutorials`\n"
     ]
    }
   ],
   "source": [
    "using Pkg; Pkg.activate(\".\")\n",
    "using YardSale, Graphs\n",
    "using Plots"
   ]
  },
  {
   "cell_type": "markdown",
   "metadata": {},
   "source": [
    "In this notebook, we will explore some of the functionalities implemented for the Monte Carlo simulations in the `YardSale.jl` package. We'll describe how to run simulations in arbitrary networks, using different taxation and interaction schemes, and briefly discuss the results obtained.\n",
    "Also, we'll show how to activate the callbacks functions, which allow the user to quickly get the metrics of the simulation."
   ]
  },
  {
   "cell_type": "code",
   "execution_count": 2,
   "metadata": {},
   "outputs": [
    {
     "data": {
      "text/plain": [
       "{64, 524} undirected simple Int64 graph"
      ]
     },
     "metadata": {},
     "output_type": "display_data"
    }
   ],
   "source": [
    "# Instantiate a graph\n",
    "N = 64\n",
    "# Expected mean degree\n",
    "k_mean = 16 \n",
    "# Erdos-Renyi graph, seed = 42\n",
    "g = erdos_renyi(N, k_mean/(N-1), seed=42)"
   ]
  },
  {
   "cell_type": "code",
   "execution_count": null,
   "metadata": {},
   "outputs": [
    {
     "ename": "UndefVarError",
     "evalue": "UndefVarError: `GraphPlot` not defined in `Main`\nSuggestion: check for spelling errors or missing imports.",
     "output_type": "error",
     "traceback": [
      "UndefVarError: `GraphPlot` not defined in `Main`\n",
      "Suggestion: check for spelling errors or missing imports.\n",
      "\n",
      "Stacktrace:\n",
      " [1] top-level scope\n",
      "   @ c:\\Users\\nicol\\GitHub\\YardSale\\tutorials\\jl_notebook_cell_df34fa98e69747e1a8f8a730347b8e2f_W4sZmlsZQ==.jl:2"
     ]
    }
   ],
   "source": [
    "# Plot the graph\n",
    "plot(g, node_size=0.1, nodecolor=:black, edgecolor=:black, edgestrokec=:black, \n",
    "edgestrokewidth=0.1, layout)"
   ]
  }
 ],
 "metadata": {
  "kernelspec": {
   "display_name": "Julia 1.11.2",
   "language": "julia",
   "name": "julia-1.11"
  },
  "language_info": {
   "file_extension": ".jl",
   "mimetype": "application/julia",
   "name": "julia",
   "version": "1.11.2"
  }
 },
 "nbformat": 4,
 "nbformat_minor": 2
}
